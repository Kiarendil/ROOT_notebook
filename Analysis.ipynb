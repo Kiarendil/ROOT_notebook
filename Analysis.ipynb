{
 "cells": [
  {
   "cell_type": "markdown",
   "metadata": {},
   "source": [
    "# Script for analysis a ROOT file (a ROOT tree)"
   ]
  },
  {
   "cell_type": "markdown",
   "metadata": {},
   "source": [
    "### Import libraries, files and etc"
   ]
  },
  {
   "cell_type": "markdown",
   "metadata": {},
   "source": [
    "Importing PyROOT and libraries"
   ]
  },
  {
   "cell_type": "code",
   "execution_count": 136,
   "metadata": {},
   "outputs": [],
   "source": [
    "import ROOT\n",
    "import glob\n",
    "import numpy as np\n",
    "import variables as v\n",
    "from IPython.display import Image, display\n",
    "import re\n",
    "# import pandas as pd\n",
    "from array import array\n",
    "from IPython.core.interactiveshell import InteractiveShell\n",
    "# InteractiveShell.ast_node_interactivity = \"all\"\n",
    "InteractiveShell.ast_node_interactivity = \"last_expr\"\n",
    "\n",
    "# Function to display Python output in LaTeX format\n",
    "from IPython.display import display, Math, Latex\n",
    "def print_math(string):\n",
    "    display(Math(string))"
   ]
  },
  {
   "cell_type": "markdown",
   "metadata": {},
   "source": [
    "Settings and names for analysis"
   ]
  },
  {
   "cell_type": "code",
   "execution_count": 137,
   "metadata": {},
   "outputs": [],
   "source": [
    "### HERE YOU SHOULD REPLACE filename TO YOUR ROOT FILE! \n",
    "\n",
    "N = '0'\n",
    "path_to_data = 'data/'\n",
    "filename = N + '_BuToJpsiK'\n",
    "\n",
    "\n",
    "# BELOW:\n",
    "#### CMS_picture setting, do not tourch ####\n",
    "\n",
    "isMC = False\n",
    "if re.match(r'(\\w*)', N).group(0) == 'MC':\n",
    "    isMC = True\n",
    "CMS_picture = True\n",
    "\n",
    "\n",
    "path_png = 'images/png/'\n",
    "path_pdf = 'images/pdf/'\n",
    "\n",
    "name = re.findall(r'_(\\w*)', filename)[0]\n",
    "number = f'N-{N}_'\n",
    "\n",
    "if CMS_picture == True:\n",
    "    import CMS_style\n",
    "    CMS_style.extraText = 'Preliminary'\n",
    "    CMS_style.cmsText = ''\n",
    "    CMS_style.lumi_13TeV = ''\n",
    "    CMS_style.lumi_sqrtS = '13 TeV, 2018'\n",
    "    if isMC:\n",
    "        CMS_style.extraText = 'Simulation Preliminary'"
   ]
  },
  {
   "cell_type": "markdown",
   "metadata": {},
   "source": [
    "##### VAR INITIALIZATION\n",
    "\n",
    "Below we initialize variables we need for analysis.\n",
    "\n",
    "You should define here all vars from .root file which you need for you analysis.\n",
    "Name of vars are to be taken from .root file."
   ]
  },
  {
   "cell_type": "code",
   "execution_count": 138,
   "metadata": {},
   "outputs": [],
   "source": [
    "#\n",
    "# __ __ __ __ __ __ __ __ GENERAL STUFF __ __ __ __ __ __ __ __\n",
    "#\n",
    "SAMEEVENT            = ROOT.RooRealVar('SAMEEVENT'      , 'SAMEEVENT', -0.5, 1.5)\n",
    "run                  = ROOT.RooRealVar('run'            ,  'run'     , 100000, 350000)\n",
    "#\n",
    "# __ __ __ __ __ __ __ __ PSI VARS __ __ __ __ __ __ __ __\n",
    "#\n",
    "B_J_mass_Cmumu       = ROOT.RooRealVar('B_J_mass_Cmumu', 'M(#mu^{+} #mu^{#minus}) [GeV]', 2.9, 4              )\n",
    "B_J_Prob_Cmumu       = ROOT.RooRealVar('B_J_Prob_Cmumu', 'J/#psi_{vtxprob}'            , 0  , 1               )\n",
    "#\n",
    "# __ __ __ __ __ __ __ __ KAON from B VARS __ __ __ __ __ __ __ __\n",
    "#                    \n",
    "B_ka_pt              = ROOT.RooRealVar('B_ka_pt'        , 'p_{T}(K^{#minus}) [GeV]', 0 , 300                 )\n",
    "B_ka_eta             = ROOT.RooRealVar('B_ka_eta'       ,  '#eta(K)'               , -3, 3                   )\n",
    "#\n",
    "# __ __ __ __ __ __ __ __ B_meson VARS __ __ __ __ __ __ __ __\n",
    "#\n",
    "B_mass_old           = ROOT.RooRealVar('B_mass_old'     , 'M(J/#psiK^{#minus}) [GeV]' , 4.9, 5.7 )\n",
    "B_pvcos2             = ROOT.RooRealVar('B_pvcos2'  , 'cos (B^{#minus}, PV)'      , -1, 1)\n",
    "#\n",
    "\n",
    "### YOU SHOULD ADD MORE VARS WHICH YOU NEED!!!"
   ]
  },
  {
   "cell_type": "markdown",
   "metadata": {},
   "source": [
    "Creating a dataset **ds_imported** with variables **varset** from a *mytree*in a .root file"
   ]
  },
  {
   "cell_type": "code",
   "execution_count": 139,
   "metadata": {},
   "outputs": [
    {
     "name": "stdout",
     "output_type": "stream",
     "text": [
      "RooDataSet::dataR[SAMEEVENT,run,B_J_mass_Cmumu,B_J_Prob_Cmumu,B_ka_pt,B_ka_eta,B_mass_old,B_pvcos2] = 203388 entries\n"
     ]
    }
   ],
   "source": [
    "file = ROOT.TFile(path_to_data + filename + '.root')\n",
    "\n",
    "varset = ROOT.RooArgSet(SAMEEVENT, run, B_J_mass_Cmumu, B_J_Prob_Cmumu, ) \n",
    "\n",
    "varset.add(ROOT.RooArgSet(B_ka_pt, B_ka_eta, ))\n",
    "\n",
    "varset.add(ROOT.RooArgSet(B_mass_old, B_pvcos2, ))\n",
    "\n",
    "\n",
    "ds_importedR = ROOT.RooDataSet('dataR', '', file.Get('mytree_Right'), varset)\n",
    "ds_importedR.Print()\n",
    "# ds_importedW = ROOT.RooDataSet('dataW', '', file.Get('mytree_Wrong'), varset)\n",
    "# ds_importedW.Print()\n",
    "file.Close()"
   ]
  },
  {
   "cell_type": "markdown",
   "metadata": {},
   "source": [
    "### Making cuts, select binning"
   ]
  },
  {
   "cell_type": "markdown",
   "metadata": {},
   "source": [
    "Creating **cut_summary** from **cuts_list** of each variable"
   ]
  },
  {
   "cell_type": "code",
   "execution_count": 140,
   "metadata": {},
   "outputs": [
    {
     "data": {
      "text/plain": [
       "'B_J_mass_Cmumu > 2.9969 && B_J_mass_Cmumu < 3.1969 && B_ka_pt > 1.5 && B_J_Prob_Cmumu > 0.1 && B_pvcos2 > 0.99'"
      ]
     },
     "execution_count": 140,
     "metadata": {},
     "output_type": "execute_result"
    }
   ],
   "source": [
    "cuts_list = []\n",
    "cut_jpsi = f'B_J_mass_Cmumu > {v.PDG_JPSI_MASS - 0.1} && B_J_mass_Cmumu < {round(v.PDG_JPSI_MASS + 0.1, 9)}'\n",
    "cuts_list.append(cut_jpsi)\n",
    "\n",
    "cuts_list.append('B_ka_pt > 1.5')\n",
    "cuts_list.append('B_J_Prob_Cmumu > 0.1')\n",
    "cuts_list.append('B_pvcos2 > 0.99')\n",
    "\n",
    "## ADD YOUR OWN CUTS HERE\n",
    "## ADD YOUR OWN CUTS HERE\n",
    "## ADD YOUR OWN CUTS HERE\n",
    "## ADD YOUR OWN CUTS HERE\n",
    "\n",
    "\n",
    "# Create final set of cuts\n",
    "\n",
    "cut_summary = cuts_list[0]\n",
    "\n",
    "for a_cut in cuts_list[1:]:\n",
    "    cut_summary += ' && ' + a_cut\n",
    "cut_summary"
   ]
  },
  {
   "cell_type": "markdown",
   "metadata": {},
   "source": [
    "Reducing **ds_imported** with a **cut_summary**, creating **ds_cutted**\n",
    "\n",
    "Saving our cutted file into **fileOUT** as *TTree*"
   ]
  },
  {
   "cell_type": "code",
   "execution_count": 141,
   "metadata": {},
   "outputs": [
    {
     "name": "stdout",
     "output_type": "stream",
     "text": [
      "Saved to data/cf_N-0__BuToJpsiK_.root\n",
      "RooDataSet::dataR[SAMEEVENT,run,B_J_mass_Cmumu,B_J_Prob_Cmumu,B_ka_pt,B_ka_eta,B_mass_old,B_pvcos2] = 70728 entries\n"
     ]
    }
   ],
   "source": [
    "ROOT.RooMsgService.instance().setGlobalKillBelow(ROOT.RooFit.WARNING)\n",
    "\n",
    "ds_cuttedR = ds_importedR.reduce(cut_summary)\n",
    "ds_cuttedR.Print()\n",
    "\n",
    "fileOUT = ROOT.TFile(f'data/cf_{number}_{name}_.root', 'recreate')\n",
    "ds_cuttedR      .GetClonedTree().Write()\n",
    "fileOUT.Close()\n",
    "\n",
    "print(f'Saved to data/cf_{number}_{name}_.root')"
   ]
  },
  {
   "cell_type": "markdown",
   "metadata": {},
   "source": [
    "Select binning for main **binvar** in our dataset: **Nbin** from **bmin** to **bmax**"
   ]
  },
  {
   "cell_type": "code",
   "execution_count": 144,
   "metadata": {},
   "outputs": [
    {
     "name": "stdout",
     "output_type": "stream",
     "text": [
      "RooDataSet::dataR[SAMEEVENT,run,B_J_mass_Cmumu,B_J_Prob_Cmumu,B_ka_pt,B_ka_eta,B_mass_old,B_pvcos2] = 53064 entries\n"
     ]
    }
   ],
   "source": [
    "ROOT.RooMsgService.instance().setGlobalKillBelow(ROOT.RooFit.WARNING)\n",
    "\n",
    "binvar = B_mass_old\n",
    "\n",
    "bmin = 5.05\n",
    "bmax = 5.55\n",
    "    \n",
    "Nbin = 100\n",
    "\n",
    "binvar.setMin(bmin)\n",
    "binvar.setMax(bmax)\n",
    "\n",
    "cut_binning = f'{binvar.GetName()} > {bmin} && {binvar.GetName()} < {bmax}'\n",
    "\n",
    "dsR = ds_cuttedR.reduce(cut_binning)\n",
    "dsR.Print()\n",
    "\n",
    "ROOT.RooMsgService.instance().setGlobalKillBelow(ROOT.RooFit.INFO) "
   ]
  },
  {
   "cell_type": "markdown",
   "metadata": {},
   "source": [
    "Cell to view the variable **obsvar** after cuts **cut_summary** and binning **cut_binning**"
   ]
  },
  {
   "cell_type": "code",
   "execution_count": 147,
   "metadata": {},
   "outputs": [
    {
     "data": {
      "image/png": "[encoded data removed]",
      "text/plain": [
       "<IPython.core.display.Image object>"
      ]
     },
     "metadata": {
      "image/png": {
       "width": 550
      }
     },
     "output_type": "display_data"
    },
    {
     "name": "stderr",
     "output_type": "stream",
     "text": [
      "Warning in <TCanvas::Constructor>: Deleting canvas with same name: cB\n",
      "Info in <TCanvas::Print>: png file images/png/test_for_output_ds.png has been created\n",
      "Info in <TCanvas::Print>: pdf file images/pdf/test_for_output_ds.pdf has been created\n"
     ]
    }
   ],
   "source": [
    "# Select var to plot: binvar of another! \n",
    "obsvar = binvar\n",
    "# obsvar = v.B_ka_pt\n",
    "\n",
    "# Create frame for obsvar. For binvar its range = binvar_range\n",
    "# If you plot another var please set: obsvar.frame(bin_max, bin_min, Nbin)\n",
    "\n",
    "bufram = obsvar.frame(Nbin)\n",
    "# bufram = obsvar.frame(0, 10, Nbin)\n",
    "\n",
    "ff = v.get_fr_bin(Nbin, obsvar, bufram)\n",
    "\n",
    "picname = 'test_for_output_ds'\n",
    "# You may change picname to save picture in folder, see example below:\n",
    "# picname = f'{obsvar.GetName()}_plot_test'\n",
    "\n",
    "\n",
    "#### \n",
    "#### BELOW PLOT SETTINGS, DO NOT TOUCH ####\n",
    "####\n",
    "\n",
    "if CMS_picture == True:\n",
    "    CMS_style.setTDRStyle()\n",
    "\n",
    "_MYW = 800\n",
    "_MYH = 600\n",
    "_MYT = 0.08 * _MYH\n",
    "_MYB = 0.15 * _MYH\n",
    "_MYL = 0.18 * _MYW\n",
    "_MYR = 0.04 * _MYW\n",
    "\n",
    "cB = ROOT.TCanvas(\"cB\",\"cB\",_MYW,_MYH)\n",
    "\n",
    "cB.SetLeftMargin( _MYL/_MYW )\n",
    "cB.SetRightMargin( _MYR/_MYW )\n",
    "cB.SetTopMargin( _MYT/_MYH )\n",
    "cB.SetBottomMargin( _MYB/_MYH )\n",
    "cB.SetTickx(0)\n",
    "cB.SetTicky(0)\n",
    "\n",
    "bufram.GetXaxis().SetTitleOffset(1.0)\n",
    "bufram.GetYaxis().SetTitleOffset(1.45)\n",
    "bufram.SetYTitle(f'Candidates / {ff}')\n",
    "\n",
    "####\n",
    "####\n",
    "\n",
    "# Plot Dataset\n",
    "dsR.plotOn(bufram, ROOT.RooFit.MarkerSize(0.8), ROOT.RooFit.Name('data'), \n",
    "          )\n",
    "\n",
    "bufram.Draw()\n",
    "\n",
    "## CMS Image settings\n",
    "if CMS_picture == True:\n",
    "    CMS_style.CMS_lumi( cB, 0 if isMC == 1 else period, 0 ); ## 2nd argument = 0 for MC\n",
    "    cB.Update(); cB.RedrawAxis(); # cB.GetFrame().Draw();\n",
    "\n",
    "cB.SaveAs(f'images/png/{picname}.png')\n",
    "cB.SaveAs(f'images/pdf/{picname}.pdf')\n",
    "display(Image(filename = f'images/png/{picname}.png', retina = False, width = 550))"
   ]
  },
  {
   "cell_type": "markdown",
   "metadata": {},
   "source": [
    "### Creating Fit variables"
   ]
  },
  {
   "cell_type": "code",
   "execution_count": 104,
   "metadata": {},
   "outputs": [],
   "source": [
    "# Choose var for fit\n",
    "\n",
    "fitvar = obsvar \n",
    "\n",
    "# fitvar = v.XB_mass_Cjp_old"
   ]
  },
  {
   "cell_type": "markdown",
   "metadata": {},
   "source": [
    "Creating initial variables for fitting and choose fit function"
   ]
  },
  {
   "cell_type": "code",
   "execution_count": 105,
   "metadata": {},
   "outputs": [],
   "source": [
    "S_mean_0 = 5.28  # initial mean of signal \n",
    "S_0 = dsR.numEntries() * 0.5  # initial number of signal events\n",
    "\n",
    "# limits for number of signal events for fitting\n",
    "S_upper = dsR.numEntries() * 0.9\n",
    "S_lower = 0\n",
    "\n",
    "Gauss = 1 # Choose a fit signal function (number of Gaussians)\n",
    "bkg_exp = 1 # Fitting backgroung with Exponential function\n",
    "bkg_bern   = 0  # Fitting backgroung with Bernstein N-order function, N = {1, 4} (0 for no B)"
   ]
  },
  {
   "cell_type": "markdown",
   "metadata": {},
   "source": [
    "#### Creating Signal variables"
   ]
  },
  {
   "cell_type": "code",
   "execution_count": 106,
   "metadata": {},
   "outputs": [],
   "source": [
    "###                                                initial  lower   upper\n",
    "###                                                values   bound   bound\n",
    "\n",
    "S       = ROOT.RooRealVar ( 'S'      , 'S'  , S_0      , S_lower , S_upper)\n",
    "\n",
    "S1_mean = ROOT.RooRealVar ( 'S1_mean', 'mean '   , S_mean_0 , S_mean_0-0.2, S_mean_0+0.2)\n",
    "S1_sigma= ROOT.RooRealVar ( 'S1_sigma','sigma'   , 1.4842e-02   , 0.00000001   , 0.2   )\n",
    "# S1_sigma= ROOT.RooRealVar ( 'S1_sigma','sigma'   , MC_shape[0], 0.000001   , 0.1   )\n",
    "\n",
    "pdfS1   = ROOT.RooGaussian( 'pdfS1'  , 'gaus'    , fitvar , S1_mean , S1_sigma)\n",
    "\n",
    "if Gauss == 2:\n",
    "    S_f1    = ROOT.RooRealVar ( 'S_f1'   , 'frac'    , 5.5610e-01  , 0.0     , 1.0    )\n",
    "#     S_f1    = ROOT.RooRealVar ( 'S_f1'   , 'frac'    , MC_shape[2], 0.0     , 1.0    )\n",
    "    \n",
    "    S2_sigma= ROOT.RooRealVar ( 'S2_sigma','sigma'   , 7.2827e-03 , 0.000001   , 0.1  )\n",
    "#     S2_sigma= ROOT.RooRealVar ( 'S2_sigma','sigma'   , MC_shape[1] , 0.000001   , 0.1  )\n",
    "    \n",
    "    pdfS2   = ROOT.RooGaussian( 'pdfS2'  , 'gaus'    , fitvar   ,S1_mean, S2_sigma)\n",
    "    \n",
    "    pdfSig  = ROOT.RooAddPdf  ('pdfSig', 'pdfSig', ROOT.RooArgList(pdfS1, pdfS2), ROOT.RooArgList(S_f1))\n",
    "    sigmeff = ROOT.RooFormulaVar ('sigmaeff', 'sigmaeff',\n",
    "    '((S1_sigma**2)*S_f1 + (S2_sigma**2)*(1- S_f1))**0.5', ROOT.RooArgList(S1_sigma, S2_sigma, S_f1))\n",
    "    #\n",
    "    # SCALING DG\n",
    "    #\n",
    "    scal    = ROOT.RooRealVar ( 'scal'      , 'scal'  , 1      , 0 , 100)\n",
    "    S1_sigmaS = ROOT.RooFormulaVar ( 'S1_sigmaS','sigma'   , 'scal * S1_sigma', ROOT.RooArgList(scal, S1_sigma))\n",
    "    S2_sigmaS = ROOT.RooFormulaVar ( 'S2_sigmaS','sigma'   , 'scal * S2_sigma', ROOT.RooArgList(scal, S2_sigma))\n",
    "    \n",
    "    pdfS1S    = ROOT.RooGaussian( 'pdfS1S'  , 'gaus'    , fitvar , S1_mean , S1_sigmaS)\n",
    "    pdfS2S    = ROOT.RooGaussian( 'pdfS2S'  , 'gaus'    , fitvar , S1_mean , S2_sigmaS)\n",
    "    \n",
    "    pdfSigS  = ROOT.RooAddPdf  ('pdfSigS', 'pdfSigS', ROOT.RooArgList(pdfS1S, pdfS2S), ROOT.RooArgList(S_f1))\n",
    "    sigmeffS = ROOT.RooFormulaVar ('sigmaeffS', 'sigmaeffS',\n",
    "    '((S1_sigmaS**2)*S_f1 + (S2_sigmaS**2)*(1- S_f1))**0.5', ROOT.RooArgList(S1_sigmaS, S2_sigmaS, S_f1))\n",
    "\n",
    "elif Gauss == 3:\n",
    "    S_f1    = ROOT.RooRealVar ( 'S_f1'   , 'frac'    , 0.25  , 0.     , 1.0    )\n",
    "    S_f2    = ROOT.RooRealVar ( 'S_f2'   , 'frac'    , 0.35  , 0.     , 1.0    )\n",
    "    S2_sigma= ROOT.RooRealVar ( 'S2_sigma','sigma'   , 1.8458e-03 , 0.000001   , 0.1   )\n",
    "    S3_sigma= ROOT.RooRealVar ( 'S3_sigma','sigma'   , 4.4623e-03 , 0.000001   , 0.1   )\n",
    "    S3_mean = ROOT.RooRealVar ( 'S3_mean', 'mean '   , S_mean_0+0.01 , S_mean_0-0.2, S_mean_0+0.2)\n",
    "    pdfS2   = ROOT.RooGaussian( 'pdfS2'  , 'gaus'    , fitvar   ,S1_mean, S2_sigma)\n",
    "    pdfS3   = ROOT.RooGaussian( 'pdfS3'  , 'gaus'    , fitvar   ,S3_mean, S3_sigma)\n",
    "    \n",
    "    pdfSig  = ROOT.RooAddPdf  ('pdfSig', 'pdfSig', ROOT.RooArgList(pdfS1, pdfS2, pdfS3), ROOT.RooArgList(S_f1, S_f2))\n",
    "    \n",
    "    sigmeff = ROOT.RooFormulaVar ('sigmaeff', 'sigmaeff',\n",
    "    '((S1_sigma**2)*S_f1 + (S2_sigma**2)*S_f1 + (S3_sigma**2)*(1-S_f1-S_f2))**0.5', \n",
    "                                  ROOT.RooArgList(S1_sigma, S2_sigma, S3_sigma, S_f1, S_f2))"
   ]
  },
  {
   "cell_type": "markdown",
   "metadata": {},
   "source": [
    "#### Creating backgroung variables"
   ]
  },
  {
   "cell_type": "code",
   "execution_count": 107,
   "metadata": {},
   "outputs": [],
   "source": [
    "###                                                 initial  lower   upper\n",
    "###                                                 values   bound   bound\n",
    "\n",
    "B           = ROOT.RooRealVar ( 'B'       , 'B'    , dsR.numEntries() * 0.9, 0    , dsR.numEntries() * 1.01 )\n",
    "if bkg_exp:\n",
    "    B_c1    = ROOT.RooRealVar ( 'Bg_c1'    , 'B_c1' , -2.5537e+00 , -200   , 200         )\n",
    "    pdfB    = ROOT.RooExponential('pdfB'  , 'pdfB' , fitvar   , B_c1)\n",
    "\n",
    "if bkg_bern:  \n",
    "    B_c     = ROOT.RooRealVar   ( 'B_c'   , 'B_c ' , -2.3  , -20   , 100)\n",
    "    B_1     = ROOT.RooRealVar   ( 'B_1'   , 'B_1 ' , 0.1   , 0.0   , 1.0)\n",
    "    B_2     = ROOT.RooRealVar   ( 'B_2'   , 'B_2 ' , 0.1   , 0.0   , 1.0)\n",
    "    B_3     = ROOT.RooRealVar   ( 'B_3'   , 'B_3 ' , 0.1   , 0.0   , 1.0)\n",
    "    B_4     = ROOT.RooRealVar   ( 'B_3'   , 'B_3 ' , 0.1   , 0.0   , 1.0)\n",
    "    BX1     = ROOT.RooFormulaVar( 'BX1'   , 'BX1'  , '1.0 - @0'            , ROOT.RooArgList(B_1))\n",
    "    BX2     = ROOT.RooFormulaVar( 'BX2'   , 'BX2'  , '1.0 - @0 -@1'        , ROOT.RooArgList(B_1, B_2))\n",
    "    BX3     = ROOT.RooFormulaVar( 'BX3'   , 'BX3'  , '1.0 - @0 -@1 -@2'    , ROOT.RooArgList(B_1, B_2, B_3))\n",
    "    BX4     = ROOT.RooFormulaVar( 'BX4'   , 'BX4'  , '1.0 - @0 -@1 -@2 -@3', ROOT.RooArgList(B_1, B_2, B_3, B_4))\n",
    "    \n",
    "    if bkg_bern   == 1:\n",
    "        pdfB    = ROOT.RooBernstein('pdfB', 'pdfB' , fitvar, ROOT.RooArgList(B_1, BX1)) \n",
    "    elif bkg_bern == 2:\n",
    "        pdfB    = ROOT.RooBernstein('pdfB', 'pdfB' , fitvar, ROOT.RooArgList(B_1, B_2, BX2))\n",
    "    elif bkg_bern == 3:\n",
    "        pdfB    = ROOT.RooBernstein('pdfB', 'pdfB' , fitvar, ROOT.RooArgList(B_1, B_2, B_3, BX3))\n",
    "    elif bkg_bern == 4:\n",
    "        pdfB    = ROOT.RooBernstein('pdfB', 'pdfB' , fitvar, ROOT.RooArgList(B_1, B_2, B_3, B_4, BX4))"
   ]
  },
  {
   "cell_type": "markdown",
   "metadata": {},
   "source": [
    "#### Creating a final P.D.F. model, ready to fit"
   ]
  },
  {
   "cell_type": "code",
   "execution_count": 108,
   "metadata": {},
   "outputs": [],
   "source": [
    "if Gauss == 1:\n",
    "    alist1  = ROOT.RooArgList (pdfS1, pdfB)\n",
    "else:\n",
    "    alist1  = ROOT.RooArgList (pdfSig, pdfB)\n",
    "#     alist1  = ROOT.RooArgList (pdfSigS, pdfB)\n",
    "\n",
    "alist2  = ROOT.RooArgList (S, B)\n",
    "pdfSum  = ROOT.RooAddPdf  ('pdfSum', 'pdfSum', alist1, alist2)"
   ]
  },
  {
   "cell_type": "markdown",
   "metadata": {},
   "source": [
    "### Fitting a model using RooFit"
   ]
  },
  {
   "cell_type": "code",
   "execution_count": 109,
   "metadata": {},
   "outputs": [
    {
     "name": "stdout",
     "output_type": "stream",
     "text": [
      "1 fit done\n",
      "2 fit done\n",
      "3 fit done\n",
      "prob = 0.0, chi2/ndof = 949.9/95\n",
      "[#1] INFO:Minization -- p.d.f. provides expected number of events, including extended term in likelihood.\n",
      "[#1] INFO:Minization -- RooMinimizer::optimizeConst: activating const optimization\n",
      "[#1] INFO:Eval -- RooAbsTestStatistic::initMPMode: started 2 remote server process.\n",
      "[#1] INFO:Minization --  The following expressions have been identified as constant and will be precalculated and cached: (pdfS1)\n",
      "[#1] INFO:Minization --  The following expressions will be evaluated in cache-and-track mode: (pdfB)\n",
      "[#1] INFO:Minization --  The following expressions have been identified as constant and will be precalculated and cached: (pdfS1)\n",
      "[#1] INFO:Minization --  The following expressions will be evaluated in cache-and-track mode: (pdfB)\n",
      "[#1] INFO:Minization -- RooMinimizer::optimizeConst: deactivating const optimization\n",
      "[#1] INFO:Minization -- p.d.f. provides expected number of events, including extended term in likelihood.\n",
      "[#1] INFO:Minization -- RooMinimizer::optimizeConst: activating const optimization\n",
      "[#1] INFO:Eval -- RooAbsTestStatistic::initMPMode: started 2 remote server process.\n",
      "[#1] INFO:Minization --  The following expressions will be evaluated in cache-and-track mode: (pdfS1,pdfB)\n",
      "[#1] INFO:Minization --  The following expressions will be evaluated in cache-and-track mode: (pdfS1,pdfB)\n",
      "[#1] INFO:Minization -- RooMinimizer::optimizeConst: deactivating const optimization\n",
      "[#1] INFO:Minization -- p.d.f. provides expected number of events, including extended term in likelihood.\n",
      "[#1] INFO:Minization -- RooMinimizer::optimizeConst: activating const optimization\n",
      "[#1] INFO:Eval -- RooAbsTestStatistic::initMPMode: started 2 remote server process.\n",
      "[#1] INFO:Minization --  The following expressions will be evaluated in cache-and-track mode: (pdfS1,pdfB)\n",
      "[#1] INFO:Minization --  The following expressions will be evaluated in cache-and-track mode: (pdfS1,pdfB)\n",
      "[#1] INFO:Minization -- RooMinimizer::optimizeConst: deactivating const optimization\n",
      "[#1] INFO:Minization -- p.d.f. provides expected number of events, including extended term in likelihood.\n",
      "[#1] INFO:Minization -- RooMinimizer::optimizeConst: activating const optimization\n",
      "[#1] INFO:Eval -- RooAbsTestStatistic::initMPMode: started 2 remote server process.\n",
      "[#1] INFO:Minization --  The following expressions will be evaluated in cache-and-track mode: (pdfS1,pdfB)\n",
      "[#1] INFO:Minization --  The following expressions will be evaluated in cache-and-track mode: (pdfS1,pdfB)\n",
      "[#1] INFO:Minization -- RooMinimizer::optimizeConst: deactivating const optimization\n",
      "\n",
      "  RooFitResult: minimized FCN value: -594070, estimated distance to minimum: 1.29904e-06\n",
      "                covariance matrix quality: Full, accurate covariance matrix\n",
      "                Status : MINIMIZE=0 HESSE=0 \n",
      "\n",
      "    Floating Parameter    FinalValue +/-  Error   \n",
      "  --------------------  --------------------------\n",
      "                     B    2.2949e+04 +/-  1.76e+02\n",
      "                 Bg_c1   -2.5979e+00 +/-  4.84e-02\n",
      "                     S    3.0115e+04 +/-  1.96e+02\n",
      "               S1_mean    5.2789e+00 +/-  1.37e-04\n",
      "              S1_sigma    1.9735e-02 +/-  1.28e-04\n",
      "\n",
      "[#1] INFO:Plotting -- RooAbsPdf::plotOn(pdfSum) only plotting range [5.05,5.55], curve is normalized to data in given range\n",
      "[#1] INFO:Eval -- RooRealVar::setRange(B_mass_old) new range named 'plotRange' created with bounds [5.05,5.55]\n"
     ]
    }
   ],
   "source": [
    "### We fit several times. First, with some paremetrs setConstant(True).\n",
    "### Then we relese them to be floating \n",
    "### It is needed for fit convergence \n",
    "\n",
    "S1_sigma.setConstant(True)\n",
    "if   Gauss == 2:\n",
    "    S_f1.setConstant(True)\n",
    "    S2_sigma.setConstant(True)\n",
    "\n",
    "S1_mean.setConstant(True)\n",
    "\n",
    "rrr = pdfSum.fitTo(dsR, ROOT.RooFit.NumCPU(2), ROOT.RooFit.PrintLevel(-1), ROOT.RooFit.Save())\n",
    "print('1 fit done')\n",
    "\n",
    "S1_sigma.setConstant(False)\n",
    "if   Gauss == 2:\n",
    "    S2_sigma.setConstant(False)\n",
    "\n",
    "rrr = pdfSum.fitTo(dsR, ROOT.RooFit.NumCPU(2), ROOT.RooFit.PrintLevel(-1), ROOT.RooFit.Save())\n",
    "print('2 fit done')\n",
    "\n",
    "S1_mean.setConstant(False)\n",
    "rrr = pdfSum.fitTo(dsR, ROOT.RooFit.NumCPU(2), ROOT.RooFit.PrintLevel(-1), ROOT.RooFit.Save())\n",
    "print('3 fit done')\n",
    "\n",
    "if   Gauss == 2:\n",
    "    S_f1.setConstant(False)\n",
    "\n",
    "rrr = pdfSum.fitTo(dsR, ROOT.RooFit.NumCPU(2), ROOT.RooFit.PrintLevel(-1), ROOT.RooFit.Save())\n",
    "rrr.Print()\n",
    "\n",
    "\n",
    "### This part of the code is needed to calculate chi2/n_dof (hi-kvadrat)\n",
    "### This part of the code is needed to calculate chi2/n_dof (hi-kvadrat)\n",
    "\n",
    "mframe = fitvar.frame(Nbin);\n",
    "dsR.plotOn( mframe, ROOT.RooFit.MarkerSize(0.9), ROOT.RooFit.Name('data'));\n",
    "\n",
    "pdfSum.plotOn( mframe, ROOT.RooFit.Name('fitt'), ROOT.RooFit.Range(fitvar.getMin(), fitvar.getMax()) )\n",
    "#pdfSum.plotOn( mframe, RooFit.Name('fitt'), RooFit.Range(5.4, 5.8 ))\n",
    "\n",
    "H_FITRES = ROOT.TH1F('H_FITRES', 'c2df-ndof-chi2-prob', 4, 1, 5)\n",
    "FIT_c2df = mframe.chiSquare(rrr.floatParsFinal().getSize() )\n",
    "FIT_ndof = (Nbin - rrr.floatParsFinal().getSize())\n",
    "FIT_chi2 = FIT_c2df * FIT_ndof; H_FITRES[3] = FIT_chi2;\n",
    "H_FITRES[1] = FIT_c2df; H_FITRES[2] = FIT_ndof\n",
    "H_FITRES[4] = ROOT.TMath.Prob(FIT_chi2, FIT_ndof)\n",
    "\n",
    "print(f'prob = {round(ROOT.TMath.Prob(FIT_chi2, FIT_ndof), 4)}, chi2/ndof = {round(FIT_chi2, 1)}/{FIT_ndof}')"
   ]
  },
  {
   "cell_type": "markdown",
   "metadata": {},
   "source": [
    "#### Creating variables for results of fit and its display"
   ]
  },
  {
   "cell_type": "markdown",
   "metadata": {},
   "source": [
    "**sigma_eff** error calculation "
   ]
  },
  {
   "cell_type": "code",
   "execution_count": 114,
   "metadata": {},
   "outputs": [
    {
     "name": "stdout",
     "output_type": "stream",
     "text": [
      "Only single Gaussian now\n"
     ]
    }
   ],
   "source": [
    "try:\n",
    "    s1w = (S1_sigma.getVal() ** 2) * S_f1.getVal()\n",
    "    s2w = (S2_sigma.getVal() ** 2) * (1 - S_f1.getVal())\n",
    "\n",
    "    df = S_f1.getError()/S_f1.getVal()\n",
    "    ds1 = S1_sigma.getError()/S1_sigma.getVal()\n",
    "    ds2 = S2_sigma.getError()/S2_sigma.getVal()\n",
    "\n",
    "    ds1w = s1w * np.sqrt( df ** 2 + (2 * ds1) ** 2)\n",
    "    ds2w = s2w * np.sqrt( df ** 2 + (2 * ds2) ** 2)\n",
    "\n",
    "    dseff2 = np.sqrt(ds1w ** 2 + ds2w ** 2)\n",
    "    dseff = 1000 * dseff2 / (2 * sigmeff.getVal())\n",
    "\n",
    "    dseffS = 1000 * (scal.getError() / scal.getVal()) * sigmeffS.getVal()\n",
    "    dseff\n",
    "except NameError:\n",
    "    print('Only single Gaussian now')"
   ]
  },
  {
   "cell_type": "markdown",
   "metadata": {},
   "source": [
    "Settings for Significant Digits after comma "
   ]
  },
  {
   "cell_type": "code",
   "execution_count": 115,
   "metadata": {},
   "outputs": [],
   "source": [
    "S1_s_r = 1\n",
    "if 1000 * S1_sigma.getVal() < 10: S1_s_r = 2\n",
    "if Gauss > 1:\n",
    "    S2_s_r = 1\n",
    "    if 1000 * S2_sigma.getVal() < 10: S2_s_r = 2\n",
    "    S_eff_r = 1\n",
    "    if 1000 * sigmeff.getVal() < 10: S_eff_r = 2"
   ]
  },
  {
   "cell_type": "markdown",
   "metadata": {},
   "source": [
    "Create beautiful outputs of our fit"
   ]
  },
  {
   "cell_type": "code",
   "execution_count": 125,
   "metadata": {},
   "outputs": [
    {
     "data": {
      "text/latex": [
       "$\\displaystyle N_{signal}^{B^-} = 30115.3\\pm195.5$"
      ],
      "text/plain": [
       "<IPython.core.display.Math object>"
      ]
     },
     "metadata": {},
     "output_type": "display_data"
    },
    {
     "data": {
      "text/latex": [
       "$\\displaystyle M_{B^-} = 5278.85\\pm0.14\\; MeV$"
      ],
      "text/plain": [
       "<IPython.core.display.Math object>"
      ]
     },
     "metadata": {},
     "output_type": "display_data"
    },
    {
     "data": {
      "text/latex": [
       "$\\displaystyle \\frac{N_{signal}}{\\sigma_N} = 154.02, \\;M_{B^-} - M_{B^-}^{PDG}=0.47\\; MeV$"
      ],
      "text/plain": [
       "<IPython.core.display.Math object>"
      ]
     },
     "metadata": {},
     "output_type": "display_data"
    }
   ],
   "source": [
    "Sign = S.getVal() / S.getError()\n",
    "\n",
    "Delta_M = (1000 * v.PDG_BU_MASS - 1000 * S1_mean.getVal())\n",
    "dm_err = np.sqrt((1000 * S1_mean.getError())**2 + 0.07**2)\n",
    "# dm_err = np.sqrt((1000 * S1_mean.getError())**2 + 0.07**2)\n",
    "\n",
    "S_str = r'N_{signal}^{B^-} = '+str(round(S.getVal(), 1)) + r'\\pm' + str(round(S.getError(), 1))\n",
    "M_str = r'M_{B^-} = ' + str(round(1000 * S1_mean.getVal(), 2)) + r'\\pm' + str(round(1000 * S1_mean.getError(), 2)) + '\\; MeV'\n",
    "sign_str = r'\\frac{N_{signal}}{\\sigma_N} = ' + str(round(Sign, 2))\n",
    "delta_str = r'M_{B^-} - M_{B^-}^{PDG}=' + str(round(Delta_M, 2)) + '\\; MeV'\n",
    "\n",
    "S_str_c = 'N_{signal} = ' + str(round(S.getVal(), 1)) + ' #pm ' + str(round(S.getError(), 1))\n",
    "M_str_c = 'M_{B^{+}} = ' + str(round(1000 * S1_mean.getVal(), 2)) + r' #pm ' + str(round(1000 * S1_mean.getError(), 2)) + ' MeV'\n",
    "sign_str_c = 'N_{signal} / #sigma_{N_{signal}} = ' + str(round(Sign, 1))     \n",
    "delta_str_c = 'M_{B^{-}} - M_{B^{-}}^{PDG} = ' + str(round(Delta_M, 2))  + r' #pm ' + str(round(dm_err, 2)) + ' MeV'\n",
    "sigmaG_str_c = '#sigma_{Gauss} = ' + str(round(1000 * S1_sigma.getVal(), S1_s_r)) + r' #pm ' + str(round(1000 * S1_sigma.getError(), S1_s_r)) + ' MeV'\n",
    "if Gauss > 1:\n",
    "    sigmaG_str_c = '#sigma_{eff} = ' + str(round(1000 * sigmeff.getVal(), S_eff_r)) + r' #pm ' + str(round(dseff, S_eff_r)) + ' MeV'\n",
    "    sigmaG_str_c = '#sigma_{eff} = ' + str(round(1000 * sigmeffS.getVal(), S_eff_r)) + r' #pm ' + str(round(dseffS, S_eff_r)) + ' MeV'\n",
    "\n",
    "    print(round(1000 * sigmeff.getVal(), 3))\n",
    "\n",
    "\n",
    "print_math(S_str)\n",
    "print_math(M_str)\n",
    "print_math(sign_str + r', \\;' + delta_str)"
   ]
  },
  {
   "cell_type": "markdown",
   "metadata": {},
   "source": [
    "#### Set settings for canvas to show"
   ]
  },
  {
   "cell_type": "code",
   "execution_count": 126,
   "metadata": {},
   "outputs": [
    {
     "name": "stderr",
     "output_type": "stream",
     "text": [
      "Warning in <TCanvas::Constructor>: Deleting canvas with same name: cB\n"
     ]
    }
   ],
   "source": [
    "# name of fitted plot\n",
    "_MYcanvName = f'_{number}_{name}_fv={fitvar.GetName()}_'\n",
    "# _MYcanvName = f'ANv{ANv}_{number}_{name}_fv={fitvar.GetName()}_{y16=}_{y17=}_{y18=}_MCFFix'\n",
    "\n",
    "if CMS_picture == True:\n",
    "    CMS_style.setTDRStyle()\n",
    "\n",
    "cB = ROOT.TCanvas('cB','cB', _MYW, _MYH)\n",
    "\n",
    "cB.SetLeftMargin( _MYL/_MYW )\n",
    "cB.SetRightMargin( _MYR/_MYW )\n",
    "cB.SetTopMargin( _MYT/_MYH )\n",
    "cB.SetBottomMargin( _MYB/_MYH )\n",
    "cB.SetTickx(0)\n",
    "cB.SetTicky(0)"
   ]
  },
  {
   "cell_type": "markdown",
   "metadata": {},
   "source": [
    "#### Show results of fit"
   ]
  },
  {
   "cell_type": "code",
   "execution_count": 127,
   "metadata": {},
   "outputs": [
    {
     "name": "stdout",
     "output_type": "stream",
     "text": [
      "550.7484821961679\n"
     ]
    },
    {
     "data": {
      "image/png": "[encoded data removed]",
      "text/plain": [
       "<IPython.core.display.Image object>"
      ]
     },
     "metadata": {
      "image/png": {
       "width": 600
      }
     },
     "output_type": "display_data"
    },
    {
     "name": "stdout",
     "output_type": "stream",
     "text": [
      "[#1] INFO:Plotting -- RooAbsPdf::plotOn(pdfSum) directly selected PDF components: (pdfB)\n",
      "[#1] INFO:Plotting -- RooAbsPdf::plotOn(pdfSum) indirectly selected PDF components: ()\n",
      "[#1] INFO:Plotting -- RooAbsPdf::plotOn(pdfSum) directly selected PDF components: (pdfS1)\n",
      "[#1] INFO:Plotting -- RooAbsPdf::plotOn(pdfSum) indirectly selected PDF components: ()\n",
      "[#0] ERROR:InputArguments -- RooCurve::average(fit) invalid range (5.0525,5.0525)\n",
      "[#0] ERROR:InputArguments -- RooCurve::average(fit) invalid range (5.0575,5.0575)\n",
      "[#0] ERROR:InputArguments -- RooCurve::average(fit) invalid range (5.0625,5.0625)\n",
      "[#0] ERROR:InputArguments -- RooCurve::average(fit) invalid range (5.0675,5.0675)\n",
      "[#0] ERROR:InputArguments -- RooCurve::average(fit) invalid range (5.0725,5.0725)\n",
      "[#0] ERROR:InputArguments -- RooCurve::average(fit) invalid range (5.0775,5.0775)\n",
      "[#0] ERROR:InputArguments -- RooCurve::average(fit) invalid range (5.0825,5.0825)\n",
      "[#0] ERROR:InputArguments -- RooCurve::average(fit) invalid range (5.0875,5.0875)\n",
      "[#0] ERROR:InputArguments -- RooCurve::average(fit) invalid range (5.0925,5.0925)\n",
      "[#0] ERROR:InputArguments -- RooCurve::average(fit) invalid range (5.0975,5.0975)\n",
      "[#0] ERROR:InputArguments -- RooCurve::average(fit) invalid range (5.1025,5.1025)\n",
      "[#0] ERROR:InputArguments -- RooCurve::average(fit) invalid range (5.1075,5.1075)\n",
      "[#0] ERROR:InputArguments -- RooCurve::average(fit) invalid range (5.1125,5.1125)\n",
      "[#0] ERROR:InputArguments -- RooCurve::average(fit) invalid range (5.1175,5.1175)\n",
      "[#0] ERROR:InputArguments -- RooCurve::average(fit) invalid range (5.1225,5.1225)\n",
      "[#0] ERROR:InputArguments -- RooCurve::average(fit) invalid range (5.1275,5.1275)\n",
      "[#0] ERROR:InputArguments -- RooCurve::average(fit) invalid range (5.1325,5.1325)\n",
      "[#0] ERROR:InputArguments -- RooCurve::average(fit) invalid range (5.1375,5.1375)\n",
      "[#0] ERROR:InputArguments -- RooCurve::average(fit) invalid range (5.1425,5.1425)\n",
      "[#0] ERROR:InputArguments -- RooCurve::average(fit) invalid range (5.1475,5.1475)\n",
      "[#0] ERROR:InputArguments -- RooCurve::average(fit) invalid range (5.1525,5.1525)\n",
      "[#0] ERROR:InputArguments -- RooCurve::average(fit) invalid range (5.1575,5.1575)\n",
      "[#0] ERROR:InputArguments -- RooCurve::average(fit) invalid range (5.1625,5.1625)\n",
      "[#0] ERROR:InputArguments -- RooCurve::average(fit) invalid range (5.1675,5.1675)\n",
      "[#0] ERROR:InputArguments -- RooCurve::average(fit) invalid range (5.1725,5.1725)\n",
      "[#0] ERROR:InputArguments -- RooCurve::average(fit) invalid range (5.1775,5.1775)\n",
      "[#0] ERROR:InputArguments -- RooCurve::average(fit) invalid range (5.1825,5.1825)\n",
      "[#0] ERROR:InputArguments -- RooCurve::average(fit) invalid range (5.1875,5.1875)\n",
      "[#0] ERROR:InputArguments -- RooCurve::average(fit) invalid range (5.1925,5.1925)\n",
      "[#0] ERROR:InputArguments -- RooCurve::average(fit) invalid range (5.1975,5.1975)\n",
      "[#0] ERROR:InputArguments -- RooCurve::average(fit) invalid range (5.2025,5.2025)\n",
      "[#0] ERROR:InputArguments -- RooCurve::average(fit) invalid range (5.2075,5.2075)\n",
      "[#0] ERROR:InputArguments -- RooCurve::average(fit) invalid range (5.2125,5.2125)\n",
      "[#0] ERROR:InputArguments -- RooCurve::average(fit) invalid range (5.2175,5.2175)\n",
      "[#0] ERROR:InputArguments -- RooCurve::average(fit) invalid range (5.2225,5.2225)\n",
      "[#0] ERROR:InputArguments -- RooCurve::average(fit) invalid range (5.2275,5.2275)\n",
      "[#0] ERROR:InputArguments -- RooCurve::average(fit) invalid range (5.2325,5.2325)\n",
      "[#0] ERROR:InputArguments -- RooCurve::average(fit) invalid range (5.2375,5.2375)\n",
      "[#0] ERROR:InputArguments -- RooCurve::average(fit) invalid range (5.2425,5.2425)\n",
      "[#0] ERROR:InputArguments -- RooCurve::average(fit) invalid range (5.2475,5.2475)\n",
      "[#0] ERROR:InputArguments -- RooCurve::average(fit) invalid range (5.2525,5.2525)\n",
      "[#0] ERROR:InputArguments -- RooCurve::average(fit) invalid range (5.2575,5.2575)\n",
      "[#0] ERROR:InputArguments -- RooCurve::average(fit) invalid range (5.2625,5.2625)\n",
      "[#0] ERROR:InputArguments -- RooCurve::average(fit) invalid range (5.2675,5.2675)\n",
      "[#0] ERROR:InputArguments -- RooCurve::average(fit) invalid range (5.2725,5.2725)\n",
      "[#0] ERROR:InputArguments -- RooCurve::average(fit) invalid range (5.2775,5.2775)\n",
      "[#0] ERROR:InputArguments -- RooCurve::average(fit) invalid range (5.2825,5.2825)\n",
      "[#0] ERROR:InputArguments -- RooCurve::average(fit) invalid range (5.2875,5.2875)\n",
      "[#0] ERROR:InputArguments -- RooCurve::average(fit) invalid range (5.2925,5.2925)\n",
      "[#0] ERROR:InputArguments -- RooCurve::average(fit) invalid range (5.2975,5.2975)\n",
      "[#0] ERROR:InputArguments -- RooCurve::average(fit) invalid range (5.3025,5.3025)\n",
      "[#0] ERROR:InputArguments -- RooCurve::average(fit) invalid range (5.3075,5.3075)\n",
      "[#0] ERROR:InputArguments -- RooCurve::average(fit) invalid range (5.3125,5.3125)\n",
      "[#0] ERROR:InputArguments -- RooCurve::average(fit) invalid range (5.3175,5.3175)\n",
      "[#0] ERROR:InputArguments -- RooCurve::average(fit) invalid range (5.3225,5.3225)\n",
      "[#0] ERROR:InputArguments -- RooCurve::average(fit) invalid range (5.3275,5.3275)\n",
      "[#0] ERROR:InputArguments -- RooCurve::average(fit) invalid range (5.3325,5.3325)\n",
      "[#0] ERROR:InputArguments -- RooCurve::average(fit) invalid range (5.3375,5.3375)\n",
      "[#0] ERROR:InputArguments -- RooCurve::average(fit) invalid range (5.3425,5.3425)\n",
      "[#0] ERROR:InputArguments -- RooCurve::average(fit) invalid range (5.3475,5.3475)\n",
      "[#0] ERROR:InputArguments -- RooCurve::average(fit) invalid range (5.3525,5.3525)\n",
      "[#0] ERROR:InputArguments -- RooCurve::average(fit) invalid range (5.3575,5.3575)\n",
      "[#0] ERROR:InputArguments -- RooCurve::average(fit) invalid range (5.3625,5.3625)\n",
      "[#0] ERROR:InputArguments -- RooCurve::average(fit) invalid range (5.3675,5.3675)\n",
      "[#0] ERROR:InputArguments -- RooCurve::average(fit) invalid range (5.3725,5.3725)\n",
      "[#0] ERROR:InputArguments -- RooCurve::average(fit) invalid range (5.3775,5.3775)\n",
      "[#0] ERROR:InputArguments -- RooCurve::average(fit) invalid range (5.3825,5.3825)\n",
      "[#0] ERROR:InputArguments -- RooCurve::average(fit) invalid range (5.3875,5.3875)\n",
      "[#0] ERROR:InputArguments -- RooCurve::average(fit) invalid range (5.3925,5.3925)\n",
      "[#0] ERROR:InputArguments -- RooCurve::average(fit) invalid range (5.3975,5.3975)\n",
      "[#0] ERROR:InputArguments -- RooCurve::average(fit) invalid range (5.4025,5.4025)\n",
      "[#0] ERROR:InputArguments -- RooCurve::average(fit) invalid range (5.4075,5.4075)\n",
      "[#0] ERROR:InputArguments -- RooCurve::average(fit) invalid range (5.4125,5.4125)\n",
      "[#0] ERROR:InputArguments -- RooCurve::average(fit) invalid range (5.4175,5.4175)\n",
      "[#0] ERROR:InputArguments -- RooCurve::average(fit) invalid range (5.4225,5.4225)\n",
      "[#0] ERROR:InputArguments -- RooCurve::average(fit) invalid range (5.4275,5.4275)\n",
      "[#0] ERROR:InputArguments -- RooCurve::average(fit) invalid range (5.4325,5.4325)\n",
      "[#0] ERROR:InputArguments -- RooCurve::average(fit) invalid range (5.4375,5.4375)\n",
      "[#0] ERROR:InputArguments -- RooCurve::average(fit) invalid range (5.4425,5.4425)\n",
      "[#0] ERROR:InputArguments -- RooCurve::average(fit) invalid range (5.4475,5.4475)\n",
      "[#0] ERROR:InputArguments -- RooCurve::average(fit) invalid range (5.4525,5.4525)\n",
      "[#0] ERROR:InputArguments -- RooCurve::average(fit) invalid range (5.4575,5.4575)\n",
      "[#0] ERROR:InputArguments -- RooCurve::average(fit) invalid range (5.4625,5.4625)\n",
      "[#0] ERROR:InputArguments -- RooCurve::average(fit) invalid range (5.4675,5.4675)\n",
      "[#0] ERROR:InputArguments -- RooCurve::average(fit) invalid range (5.4725,5.4725)\n",
      "[#0] ERROR:InputArguments -- RooCurve::average(fit) invalid range (5.4775,5.4775)\n",
      "[#0] ERROR:InputArguments -- RooCurve::average(fit) invalid range (5.4825,5.4825)\n",
      "[#0] ERROR:InputArguments -- RooCurve::average(fit) invalid range (5.4875,5.4875)\n",
      "[#0] ERROR:InputArguments -- RooCurve::average(fit) invalid range (5.4925,5.4925)\n",
      "[#0] ERROR:InputArguments -- RooCurve::average(fit) invalid range (5.4975,5.4975)\n",
      "[#0] ERROR:InputArguments -- RooCurve::average(fit) invalid range (5.5025,5.5025)\n",
      "[#0] ERROR:InputArguments -- RooCurve::average(fit) invalid range (5.5075,5.5075)\n",
      "[#0] ERROR:InputArguments -- RooCurve::average(fit) invalid range (5.5125,5.5125)\n",
      "[#0] ERROR:InputArguments -- RooCurve::average(fit) invalid range (5.5175,5.5175)\n",
      "[#0] ERROR:InputArguments -- RooCurve::average(fit) invalid range (5.5225,5.5225)\n",
      "[#0] ERROR:InputArguments -- RooCurve::average(fit) invalid range (5.5275,5.5275)\n",
      "[#0] ERROR:InputArguments -- RooCurve::average(fit) invalid range (5.5325,5.5325)\n",
      "[#0] ERROR:InputArguments -- RooCurve::average(fit) invalid range (5.5375,5.5375)\n",
      "[#0] ERROR:InputArguments -- RooCurve::average(fit) invalid range (5.5425,5.5425)\n",
      "[#0] ERROR:InputArguments -- RooCurve::average(fit) invalid range (5.5475,5.5475)\n"
     ]
    },
    {
     "name": "stderr",
     "output_type": "stream",
     "text": [
      "Info in <TCanvas::Print>: png file images/png/_N-0__BuToJpsiK_fv=B_mass_old_.png has been created\n",
      "Info in <TCanvas::Print>: pdf file images/pdf/_N-0__BuToJpsiK_fv=B_mass_old_.pdf has been created\n"
     ]
    }
   ],
   "source": [
    "bufram = fitvar.frame(Nbin)\n",
    "# bufram = v.XI_mass_old.frame(1.28, 1.36, Nbin)\n",
    "ff = v.get_fr_bin(Nbin, fitvar, bufram)\n",
    "\n",
    "bufram.GetXaxis().SetTitleOffset(1.0)\n",
    "bufram.GetXaxis().SetDecimals()\n",
    "bufram.GetYaxis().SetTitleOffset(1.4)\n",
    "bufram.SetYTitle(f'Candidates / {ff}')\n",
    "\n",
    "### Plot dataset\n",
    "dsR.plotOn(bufram, ROOT.RooFit.MarkerSize(0.8), ROOT.RooFit.Name('data'), ROOT.RooFit.XErrorSize(0))\n",
    "\n",
    "### Plot our PDF and its components!!! \n",
    "### Plot our PDF and its components!!! \n",
    "\n",
    "pdfSum.plotOn(  bufram,     ROOT.RooFit.Components('pdfB'),\n",
    "                            ROOT.RooFit.LineColor(9),\n",
    "                            ROOT.RooFit.LineStyle(5),\n",
    "                            ROOT.RooFit.LineWidth(2),\n",
    "                            ROOT.RooFit.Name('bkgr'))\n",
    "\n",
    "if Gauss == 1:\n",
    "    pdfSum.plotOn(  bufram,     ROOT.RooFit.Components('pdfS1'),\n",
    "                                ROOT.RooFit.LineColor(ROOT.kGreen-2),\n",
    "                                ROOT.RooFit.LineStyle(1),\n",
    "                                ROOT.RooFit.LineWidth(2),\n",
    "                                ROOT.RooFit.Name('sign')\n",
    "#               ,ROOT.RooFit.Range(S1_mean.getVal()-5.0*sigma_eff, S1_mean.getVal()+5.0*sigma_eff)  \n",
    "                 )\n",
    "else:\n",
    "#     pdfSum.plotOn(  bufram,     ROOT.RooFit.Components('pdfSig'),\n",
    "#                                 ROOT.RooFit.LineColor(ROOT.kGreen+2),\n",
    "#                                 ROOT.RooFit.LineStyle(5),\n",
    "#                                 ROOT.RooFit.LineWidth(2),\n",
    "#                                 ROOT.RooFit.Name('sign')\n",
    "# #               ,ROOT.RooFit.Range(S1_mean.getVal()-5.0*sigma_eff, S1_mean.getVal()+5.0*sigma_eff)  \n",
    "#                  )\n",
    "#      pdfSum.plotOn(  bufram,     ROOT.RooFit.Components('pdfSig'),\n",
    "#                                 ROOT.RooFit.LineColor(ROOT.kGreen-2),\n",
    "#                                 ROOT.RooFit.LineStyle(1),\n",
    "#                                 ROOT.RooFit.LineWidth(2),\n",
    "#                                 ROOT.RooFit.Name('sign')\n",
    "#               ,ROOT.RooFit.Range(S1_mean.getVal()-5.0*sigma_eff, S1_mean.getVal()+5.0*sigma_eff)  \n",
    "#                  )\n",
    "     pdfSum.plotOn(  bufram,     ROOT.RooFit.Components('pdfS1'),\n",
    "                                ROOT.RooFit.LineColor(ROOT.kGreen-2),\n",
    "                                ROOT.RooFit.LineStyle(1),\n",
    "                                ROOT.RooFit.LineWidth(2),\n",
    "                                ROOT.RooFit.Name('sign')\n",
    "#               ,ROOT.RooFit.Range(S1_mean.getVal()-5.0*sigma_eff, S1_mean.getVal()+5.0*sigma_eff)  \n",
    "                 )\n",
    "     pdfSum.plotOn(  bufram,     ROOT.RooFit.Components('pdfS2'),\n",
    "                                ROOT.RooFit.LineColor(ROOT.kGreen-2),\n",
    "                                ROOT.RooFit.LineStyle(1),\n",
    "                                ROOT.RooFit.LineWidth(2),\n",
    "                                ROOT.RooFit.Name('sign')\n",
    "#               ,ROOT.RooFit.Range(S1_mean.getVal()-5.0*sigma_eff, S1_mean.getVal()+5.0*sigma_eff)  \n",
    "                 )\n",
    "\n",
    "pdfSum.plotOn(  bufram,     ROOT.RooFit.LineColor(2),\n",
    "                            ROOT.RooFit.LineStyle(1),\n",
    "                            ROOT.RooFit.LineWidth(3),\n",
    "                            ROOT.RooFit.Name('fit'),\n",
    "#                             ROOT.RooFit.Range(bmin, bmax) \n",
    "             )\n",
    "dsR.plotOn(bufram, ROOT.RooFit.MarkerSize(0.8), ROOT.RooFit.Name('data'), ROOT.RooFit.XErrorSize(0))\n",
    "bufram.Draw()\n",
    "\n",
    "x = bufram.chiSquare() \n",
    "print(x)\n",
    "\n",
    "\n",
    "## Create legeng for plot\n",
    "leg = ROOT.TLegend(0.2,0.6,0.38,0.9)\n",
    "leg.SetTextFont(42)\n",
    "leg.SetTextSize(0.05)\n",
    "if isMC:\n",
    "    leg.AddEntry(bufram.findObject('data')  ,'Simulation'     , 'ep')\n",
    "else:\n",
    "    leg.AddEntry(bufram.findObject('data')  , 'Data'     , 'ep')\n",
    "leg.AddEntry(bufram.findObject('fit'     )  , 'Fit'      , 'l')\n",
    "leg.AddEntry(bufram.findObject('sign'    )  , 'Signal'   , 'l')\n",
    "leg.AddEntry(bufram.findObject('bkgr'    )  , 'Comb. bkg.', 'l')\n",
    "leg.Draw('same')\n",
    "\n",
    "if CMS_picture == True:\n",
    "    CMS_style.CMS_lumi( cB, 0 if isMC==1 else period, 0 ); ## 2nd argument = 0 for MC\n",
    "    cB.Update(); cB.RedrawAxis(); #cB.GetFrame().Draw();\n",
    "\n",
    "    \n",
    "# Draw fit paremetrs\n",
    "text_com = ROOT.TPaveText(0.66, 0.9195, 0.9592, 0.65, \"NBNDC\")\n",
    "# text_com = ROOT.TPaveText(0.68, 0.899, 0.958, 0.57, \"NBNDC\")\n",
    "# text_com.SetLabel('Fit results:')\n",
    "text_com.SetTextFont(42)\n",
    "text_com.SetTextSize(0.032)\n",
    "text_com.AddText(S_str_c)\n",
    "text_com.AddText(M_str_c)\n",
    "text_com.AddText(sigmaG_str_c)\n",
    "# text_com.AddText(sign_str_c)\n",
    "text_com.AddText(delta_str_c)\n",
    "text_com.SetBorderSize(1)\n",
    "text_com.SetFillColor(0)\n",
    "text_com.Draw('same')\n",
    "\n",
    "ll = ROOT.TLine(S1_mean.getVal() - 0.047, 0, S1_mean.getVal() -  0.047, bufram.GetMaximum()*0.9)\n",
    "ll.SetLineWidth(1)\n",
    "ll.SetLineColor(ROOT.kBlue)\n",
    "# ll.Draw()\n",
    "\n",
    "lr = ROOT.TLine(S1_mean.getVal() +  0.047, 0, S1_mean.getVal() +  0.047, bufram.GetMaximum()*0.9)\n",
    "lr.SetLineWidth(1)\n",
    "lr.SetLineColor(ROOT.kBlue)\n",
    "# lr.Draw()\n",
    "\n",
    "\n",
    "cB.SaveAs(path_png + _MYcanvName + '.png')\n",
    "cB.SaveAs(path_pdf + _MYcanvName + '.pdf')\n",
    "display(Image(filename = path_png + _MYcanvName + '.png', retina = False, width = 600))"
   ]
  },
  {
   "cell_type": "code",
   "execution_count": null,
   "metadata": {},
   "outputs": [],
   "source": []
  }
 ],
 "metadata": {
  "kernelspec": {
   "display_name": "Python 3",
   "language": "python",
   "name": "python3"
  },
  "language_info": {
   "codemirror_mode": {
    "name": "ipython",
    "version": 3
   },
   "file_extension": ".py",
   "mimetype": "text/x-python",
   "name": "python",
   "nbconvert_exporter": "python",
   "pygments_lexer": "ipython3",
   "version": "3.9.1"
  }
 },
 "nbformat": 4,
 "nbformat_minor": 4
}
